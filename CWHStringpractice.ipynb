{
  "nbformat": 4,
  "nbformat_minor": 0,
  "metadata": {
    "colab": {
      "name": "CWHStringpractice.ipynb",
      "provenance": [],
      "authorship_tag": "ABX9TyMXBVf0fw7O+StpF36Vo0bG",
      "include_colab_link": true
    },
    "kernelspec": {
      "name": "python3",
      "display_name": "Python 3"
    },
    "language_info": {
      "name": "python"
    }
  },
  "cells": [
    {
      "cell_type": "markdown",
      "metadata": {
        "id": "view-in-github",
        "colab_type": "text"
      },
      "source": [
        "<a href=\"https://colab.research.google.com/github/Shafeequr1999/100LinesOfCode/blob/master/CWHStringpractice.ipynb\" target=\"_parent\"><img src=\"https://colab.research.google.com/assets/colab-badge.svg\" alt=\"Open In Colab\"/></a>"
      ]
    },
    {
      "cell_type": "code",
      "execution_count": 6,
      "metadata": {
        "colab": {
          "base_uri": "https://localhost:8080/"
        },
        "id": "b0mJBFL6PP3Z",
        "outputId": "dae943d7-223a-4ce7-de15-adc63e8f6669"
      },
      "outputs": [
        {
          "output_type": "stream",
          "name": "stdout",
          "text": [
            "Enter name: Shafeeq\n",
            "Enter Date: 19 August, 2020\n",
            "Dear Shafeeq ,\n",
            "We are glad to inform your selection.\n",
            "Thanks for your interest\n",
            "Dated: 19 August, 2020 \n"
          ]
        }
      ],
      "source": [
        "letter='''Dear name ,\n",
        "We are glad to inform your selection.\n",
        "Thanks for your interest\n",
        "Dated: date '''\n",
        "Name=input(\"Enter name: \")\n",
        "Date=input(\"Enter Date: \")\n",
        "letter=letter.replace(\"name\",Name)\n",
        "letter=letter.replace(\"date\",Date)\n",
        "print(letter)"
      ]
    },
    {
      "cell_type": "code",
      "source": [
        "st=\"This is where we find double  spaces\"\n",
        "doubleSpaces=st.find(\"  \")\n",
        "print(doubleSpaces)"
      ],
      "metadata": {
        "colab": {
          "base_uri": "https://localhost:8080/"
        },
        "id": "7tr5xHMsSozC",
        "outputId": "c0318f25-9956-46db-cefa-e8e46ea20084"
      },
      "execution_count": 7,
      "outputs": [
        {
          "output_type": "stream",
          "name": "stdout",
          "text": [
            "28\n"
          ]
        }
      ]
    },
    {
      "cell_type": "code",
      "source": [
        "st=\"This is  where  we  find  double  spaces\"\n",
        "st=st.replace(\"  \",\" \")\n",
        "print(st)"
      ],
      "metadata": {
        "colab": {
          "base_uri": "https://localhost:8080/"
        },
        "id": "nZXjMnluXUHZ",
        "outputId": "6b43a8ee-0a2f-4dc7-f810-45151af3044e"
      },
      "execution_count": 14,
      "outputs": [
        {
          "output_type": "stream",
          "name": "stdout",
          "text": [
            "This is where we find double spaces\n"
          ]
        }
      ]
    },
    {
      "cell_type": "code",
      "source": [
        ""
      ],
      "metadata": {
        "id": "Scdp2_b9XuiD"
      },
      "execution_count": null,
      "outputs": []
    }
  ]
}